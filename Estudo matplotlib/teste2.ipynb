{
    "cells": [
        {
            "cell_type": "code",
            "execution_count": 1,
            "source": [
                "import matplotlib.pyplot as plt\r\n",
                "import numpy as np\r\n",
                "\r\n"
            ],
            "outputs": [],
            "metadata": {}
        },
        {
            "cell_type": "code",
            "execution_count": 2,
            "source": [
                "x = np.arange(0, 10, 0.1)\r\n",
                "fig1, f1_axes = plt.subplots(ncols = 2, nrows = 2)\r\n",
                "f1_axes[0, 0].plot(np.sin(x), label = \"sen(x)\", color = \"tab:red\")\r\n",
                "f1_axes[0, 0].plot(np.cos(x), label = \"cos(x)\", color = \"c\")\r\n",
                "f1_axes[0, 0].set_title(\"Caixa 1\")\r\n",
                "f1_axes[0, 0].set_xlabel(\"Caixa 1 - Label X\")\r\n",
                "f1_axes[0, 0].set_ylabel(\"Caixa 1 - Label Y\")\r\n",
                "f1_axes[0, 0].legend()\r\n",
                "f1_axes[0, 1].plot(np.cos(x), label = \"cos(x)\")\r\n",
                "f1_axes[0, 1].set_title(\"Caixa 2\")\r\n",
                "f1_axes[0, 1].set_xlabel(\"Caixa 2 - Label X\")\r\n",
                "f1_axes[0, 1].set_ylabel(\"Caixa 2 - Label Y\")\r\n",
                "f1_axes[0, 1].legend()\r\n",
                "f1_axes[1, 0].plot(np.tan(x), label = \"tan(x)\")\r\n",
                "f1_axes[1, 0].set_title(\"Caixa 3\")\r\n",
                "f1_axes[1, 0].set_xlabel(\"Caixa 3 - Label X\")\r\n",
                "f1_axes[1, 0].set_ylabel(\"Caixa 3 - Label Y\")\r\n",
                "f1_axes[1, 0].legend()\r\n"
            ],
            "outputs": [
                {
                    "output_type": "execute_result",
                    "data": {
                        "text/plain": [
                            "<matplotlib.legend.Legend at 0x115e2a00>"
                        ]
                    },
                    "metadata": {},
                    "execution_count": 2
                }
            ],
            "metadata": {}
        }
    ],
    "metadata": {
        "orig_nbformat": 4,
        "language_info": {
            "name": "python",
            "version": "3.8.0",
            "mimetype": "text/x-python",
            "codemirror_mode": {
                "name": "ipython",
                "version": 3
            },
            "pygments_lexer": "ipython3",
            "nbconvert_exporter": "python",
            "file_extension": ".py"
        },
        "kernelspec": {
            "name": "python3",
            "display_name": "Python 3.8.0 64-bit"
        },
        "interpreter": {
            "hash": "1baa965d5efe3ac65b79dfc60c0d706280b1da80fedb7760faf2759126c4f253"
        }
    },
    "nbformat": 4,
    "nbformat_minor": 2
}